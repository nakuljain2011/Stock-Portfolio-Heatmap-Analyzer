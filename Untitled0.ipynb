{
  "nbformat": 4,
  "nbformat_minor": 0,
  "metadata": {
    "colab": {
      "provenance": [],
      "toc_visible": true,
      "authorship_tag": "ABX9TyOrZ8VkGRrnaY200SpUDXJt"
    },
    "kernelspec": {
      "name": "python3",
      "display_name": "Python 3"
    },
    "language_info": {
      "name": "python"
    }
  },
  "cells": [
    {
      "cell_type": "code",
      "source": [
        "# Import necessary libraries\n",
        "import os\n",
        "import yfinance as yf\n",
        "import numpy as np\n",
        "import matplotlib.pyplot as plt\n",
        "import seaborn as sns\n",
        "import pandas as pd\n",
        "import time\n",
        "from tensorflow.keras.models import Sequential\n",
        "from tensorflow.keras.layers import Conv2D, MaxPooling2D, Flatten, Dense, Input\n",
        "from tensorflow.keras.optimizers import Adam\n",
        "from sklearn.model_selection import train_test_split\n",
        "from tensorflow.keras.preprocessing.image import load_img, img_to_array\n",
        "\n",
        "def fetch_and_preprocess_data(tickers, start_date, end_date, max_retries=3):\n",
        "    for attempt in range(max_retries):\n",
        "        try:\n",
        "            stock_data = yf.download(tickers, start=start_date, end=end_date, auto_adjust=False)\n",
        "\n",
        "            if stock_data.empty:\n",
        "                raise ValueError(\"Downloaded data is empty (likely due to rate limiting).\")\n",
        "\n",
        "            if 'Adj Close' in stock_data.columns:\n",
        "                adj_close = stock_data['Adj Close']\n",
        "            else:\n",
        "                adj_close = stock_data['Close']\n",
        "\n",
        "            returns = adj_close.pct_change().dropna()\n",
        "            if returns.empty:\n",
        "                raise ValueError(\"Returns data is empty.\")\n",
        "\n",
        "            correlation_matrix = returns.corr()\n",
        "            return correlation_matrix\n",
        "\n",
        "        except ValueError as e:\n",
        "            print(f\"[Attempt {attempt+1}/{max_retries}] {e}\")\n",
        "            time.sleep(5)\n",
        "        except Exception as e:\n",
        "            print(f\"[Attempt {attempt+1}/{max_retries}] Unexpected error: {e}\")\n",
        "            time.sleep(5)\n",
        "\n",
        "    print(\"All retries failed. Returning empty DataFrame.\")\n",
        "    return pd.DataFrame()\n",
        "  # return empty DataFrame if all retries fail\n",
        "\n",
        "# Function to plot and save the correlation heatmap\n",
        "def plot_correlation_heatmap(correlation_matrix, image_filename):\n",
        "    if correlation_matrix.isnull().values.any():\n",
        "        print(\"Correlation matrix contains NaN values. Aborting heatmap generation.\")\n",
        "        return\n",
        "\n",
        "    plt.figure(figsize=(10, 8))\n",
        "    sns.heatmap(correlation_matrix, annot=True, cmap='coolwarm', fmt='.2f')\n",
        "    plt.title(\"Correlation Heatmap of Stocks\")\n",
        "    plt.savefig(image_filename)\n",
        "    plt.close()\n",
        "\n",
        "# Create a CNN model\n",
        "def create_cnn_model(input_shape=(224, 224, 3)):\n",
        "    model = Sequential([\n",
        "        Input(shape=input_shape),\n",
        "        Conv2D(32, (3, 3), activation='relu'),\n",
        "        MaxPooling2D((2, 2)),\n",
        "        Conv2D(64, (3, 3), activation='relu'),\n",
        "        MaxPooling2D((2, 2)),\n",
        "        Flatten(),\n",
        "        Dense(128, activation='relu'),\n",
        "        Dense(1, activation='sigmoid')\n",
        "    ])\n",
        "    model.compile(optimizer=Adam(), loss='binary_crossentropy', metrics=['accuracy'])\n",
        "    return model\n",
        "\n",
        "# Function to preprocess images\n",
        "def preprocess_images(image_paths, labels, target_size=(224, 224)):\n",
        "    images = []\n",
        "    for image_path in image_paths:\n",
        "        try:\n",
        "            img = load_img(image_path, target_size=target_size)\n",
        "            img_array = img_to_array(img) / 255.0\n",
        "            images.append(img_array)\n",
        "        except Exception as e:\n",
        "            print(f\"Error processing image {image_path}: {e}\")\n",
        "            continue\n",
        "\n",
        "    return np.array(images), np.array(labels)\n",
        "\n",
        "# Function to create a directory if it doesn't exist\n",
        "def create_directory(directory_path):\n",
        "    if not os.path.exists(directory_path):\n",
        "        os.makedirs(directory_path)\n",
        "        print(f\"Directory {directory_path} created!\")\n",
        "    else:\n",
        "        print(f\"Directory {directory_path} already exists!\")\n",
        "\n",
        "# Prepare dataset and train the CNN model\n",
        "def prepare_and_train_model(tickers, start_date, end_date, image_folder_path):\n",
        "    correlation_matrix = fetch_and_preprocess_data(tickers, start_date, end_date)\n",
        "\n",
        "    if correlation_matrix.empty or correlation_matrix.isnull().values.any():\n",
        "        print(\"No usable correlation matrix. Skipping training.\")\n",
        "        return None\n",
        "\n",
        "    create_directory(image_folder_path)\n",
        "\n",
        "    image_filename = f\"{image_folder_path}/correlation_heatmap.png\"\n",
        "    plot_correlation_heatmap(correlation_matrix, image_filename)\n",
        "\n",
        "    image_paths = [image_filename for _ in tickers]\n",
        "    labels = [1 if i % 2 == 0 else 0 for i in range(len(tickers))]\n",
        "\n",
        "    X, y = preprocess_images(image_paths, labels)\n",
        "    if len(X) == 0:\n",
        "        print(\"No images loaded successfully. Skipping training.\")\n",
        "        return None\n",
        "\n",
        "    X_train, X_val, y_train, y_val = train_test_split(X, y, test_size=0.2, random_state=42)\n",
        "\n",
        "    model = create_cnn_model(input_shape=(224, 224, 3))\n",
        "    model.fit(X_train, y_train, validation_data=(X_val, y_val), epochs=5, batch_size=16)\n",
        "\n",
        "    val_loss, val_accuracy = model.evaluate(X_val, y_val)\n",
        "    print(f\"Validation Loss: {val_loss}, Validation Accuracy: {val_accuracy}\")\n",
        "\n",
        "    return model\n",
        "\n",
        "# Function to predict using heatmap images\n",
        "def predict_using_heatmaps(model, image_paths, target_size=(224, 224)):\n",
        "    X_pred = []\n",
        "    for image_path in image_paths:\n",
        "        try:\n",
        "            img = load_img(image_path, target_size=target_size)\n",
        "            img_array = img_to_array(img) / 255.0\n",
        "            X_pred.append(img_array)\n",
        "        except Exception as e:\n",
        "            print(f\"Error loading image {image_path}: {e}\")\n",
        "            continue\n",
        "\n",
        "    if not X_pred:\n",
        "        print(\"No valid images for prediction.\")\n",
        "        return None\n",
        "\n",
        "    X_pred = np.array(X_pred)\n",
        "    predictions = model.predict(X_pred)\n",
        "    return predictions\n",
        "\n",
        "# Example usage\n",
        "tickers = [\"TCS.NS\", \"RELIANCE.BO\", \"INFY.NS\", \"HDFCBANK.NS\"]\n",
        "image_folder_path = '/content/heatmap_images'\n",
        "model = prepare_and_train_model(tickers, \"2020-01-01\", \"2021-01-01\", image_folder_path)\n",
        "\n",
        "if model:\n",
        "    image_paths_for_prediction = [f\"{image_folder_path}/correlation_heatmap.png\" for _ in tickers]\n",
        "    predictions = predict_using_heatmaps(model, image_paths_for_prediction)\n",
        "    print(f\"Predictions: {predictions}\")\n",
        "else:\n",
        "    print(\"Skipping prediction due to earlier failure.\")\n"
      ],
      "metadata": {
        "colab": {
          "base_uri": "https://localhost:8080/"
        },
        "id": "9EqYPmWbw8qo",
        "outputId": "9d8f5a7a-3ae4-4216-ba8b-76378327cd8a"
      },
      "execution_count": null,
      "outputs": [
        {
          "output_type": "stream",
          "name": "stderr",
          "text": [
            "[*********************100%***********************]  4 of 4 completed\n"
          ]
        },
        {
          "output_type": "stream",
          "name": "stdout",
          "text": [
            "Directory /content/heatmap_images created!\n",
            "Epoch 1/5\n",
            "\u001b[1m1/1\u001b[0m \u001b[32m━━━━━━━━━━━━━━━━━━━━\u001b[0m\u001b[37m\u001b[0m \u001b[1m3s\u001b[0m 3s/step - accuracy: 0.6667 - loss: 0.6540 - val_accuracy: 0.0000e+00 - val_loss: 75.6177\n",
            "Epoch 2/5\n",
            "\u001b[1m1/1\u001b[0m \u001b[32m━━━━━━━━━━━━━━━━━━━━\u001b[0m\u001b[37m\u001b[0m \u001b[1m2s\u001b[0m 2s/step - accuracy: 0.6667 - loss: 25.2059 - val_accuracy: 0.0000e+00 - val_loss: 25.4862\n",
            "Epoch 3/5\n",
            "\u001b[1m1/1\u001b[0m \u001b[32m━━━━━━━━━━━━━━━━━━━━\u001b[0m\u001b[37m\u001b[0m \u001b[1m2s\u001b[0m 2s/step - accuracy: 0.6667 - loss: 8.4954 - val_accuracy: 1.0000 - val_loss: 0.0234\n",
            "Epoch 4/5\n",
            "\u001b[1m1/1\u001b[0m \u001b[32m━━━━━━━━━━━━━━━━━━━━\u001b[0m\u001b[37m\u001b[0m \u001b[1m1s\u001b[0m 862ms/step - accuracy: 0.3333 - loss: 2.5184 - val_accuracy: 1.0000 - val_loss: 0.0429\n",
            "Epoch 5/5\n",
            "\u001b[1m1/1\u001b[0m \u001b[32m━━━━━━━━━━━━━━━━━━━━\u001b[0m\u001b[37m\u001b[0m \u001b[1m1s\u001b[0m 846ms/step - accuracy: 0.3333 - loss: 2.1283 - val_accuracy: 1.0000 - val_loss: 0.6447\n",
            "\u001b[1m1/1\u001b[0m \u001b[32m━━━━━━━━━━━━━━━━━━━━\u001b[0m\u001b[37m\u001b[0m \u001b[1m0s\u001b[0m 75ms/step - accuracy: 1.0000 - loss: 0.6447\n",
            "Validation Loss: 0.6446791887283325, Validation Accuracy: 1.0\n",
            "\u001b[1m1/1\u001b[0m \u001b[32m━━━━━━━━━━━━━━━━━━━━\u001b[0m\u001b[37m\u001b[0m \u001b[1m0s\u001b[0m 176ms/step\n",
            "Predictions: [[0.47516805]\n",
            " [0.47516805]\n",
            " [0.47516805]\n",
            " [0.47516805]]\n"
          ]
        }
      ]
    },
    {
      "cell_type": "code",
      "source": [
        "import pandas as pd\n",
        "import os\n",
        "\n",
        "# Create dummy labels.csv for testing\n",
        "os.makedirs('/content/heatmap_dataset', exist_ok=True)\n",
        "dummy_data = {\n",
        "    'file': ['heatmap_0.png', 'heatmap_1.png'],\n",
        "    'label': [1, 0]\n",
        "}\n",
        "df = pd.DataFrame(dummy_data)\n",
        "df.to_csv('/content/heatmap_dataset/labels.csv', index=False)\n",
        "print(\"✅ Dummy labels.csv created.\")\n"
      ],
      "metadata": {
        "id": "mlbf6TfLn1rJ",
        "outputId": "aa85e260-5465-4884-df61-1f99f35f2193",
        "colab": {
          "base_uri": "https://localhost:8080/"
        }
      },
      "execution_count": null,
      "outputs": [
        {
          "output_type": "stream",
          "name": "stdout",
          "text": [
            "✅ Dummy labels.csv created.\n"
          ]
        }
      ]
    },
    {
      "cell_type": "code",
      "source": [
        "import matplotlib.pyplot as plt\n",
        "import seaborn as sns\n",
        "\n",
        "def generate_and_save_heatmap(matrix, filename):\n",
        "    plt.figure(figsize=(6, 6))\n",
        "    sns.heatmap(matrix, annot=False, cmap='coolwarm')\n",
        "    plt.tight_layout()\n",
        "    plt.savefig(filename)\n",
        "    plt.close()\n",
        "\n",
        "# Example: create dummy correlation matrices\n",
        "import numpy as np\n",
        "for i in range(10):  # adjust count\n",
        "    matrix = np.random.rand(5, 5)\n",
        "    matrix = (matrix + matrix.T) / 2  # Make symmetric\n",
        "    np.fill_diagonal(matrix, 1)\n",
        "    generate_and_save_heatmap(matrix, f\"/content/heatmap_dataset/heatmap_{i}.png\")\n"
      ],
      "metadata": {
        "id": "qtUJseGeRWnm"
      },
      "execution_count": null,
      "outputs": []
    },
    {
      "cell_type": "code",
      "source": [
        "import pandas as pd\n",
        "\n",
        "df = pd.DataFrame({\n",
        "    \"file\": [f\"heatmap_{i}.png\" for i in range(10)],\n",
        "    \"label\": np.random.randint(0, 2, size=10)  # Replace with actual labels\n",
        "})\n",
        "df.to_csv(\"/content/heatmap_dataset/labels.csv\", index=False)\n"
      ],
      "metadata": {
        "id": "x9tFtxNPRYvU"
      },
      "execution_count": null,
      "outputs": []
    },
    {
      "cell_type": "code",
      "source": [
        "import os\n",
        "import pandas as pd\n",
        "import numpy as np\n",
        "from tensorflow.keras.preprocessing.image import load_img, img_to_array\n",
        "from sklearn.model_selection import train_test_split\n",
        "\n",
        "# Path setup\n",
        "image_dir = '/content/heatmap_dataset'  # Ensure this directory exists and contains images\n",
        "label_file = os.path.join(image_dir, 'labels.csv')  # Ensure this CSV exists and matches image names\n",
        "\n",
        "# Check if required paths exist\n",
        "if not os.path.exists(image_dir):\n",
        "    raise FileNotFoundError(f\"❌ Directory not found: {image_dir}\")\n",
        "if not os.path.isfile(label_file):\n",
        "    raise FileNotFoundError(f\"❌ labels.csv not found at: {label_file}\")\n",
        "\n",
        "# Load labels\n",
        "df = pd.read_csv(label_file)\n",
        "\n",
        "# Image parameters\n",
        "img_size = (128, 128)\n",
        "X, y = [], []\n",
        "\n",
        "# Loop through the labels and load images\n",
        "missing_files = []\n",
        "for _, row in df.iterrows():\n",
        "    image_path = os.path.join(image_dir, row['file'])  # Full path of the image\n",
        "    if os.path.isfile(image_path):\n",
        "        img = load_img(image_path, target_size=img_size, color_mode='rgb')\n",
        "        img_array = img_to_array(img) / 255.0  # Normalize to [0, 1]\n",
        "        X.append(img_array)\n",
        "        y.append(row['label'])\n",
        "    else:\n",
        "        print(f\"⚠️ Warning: Missing image {image_path}\")\n",
        "        missing_files.append(image_path)\n",
        "\n",
        "# Handle the case where no images were loaded\n",
        "if not X:\n",
        "    raise ValueError(\"❌ No images loaded. Please ensure the dataset is present and labeled correctly.\")\n",
        "\n",
        "# Convert to numpy arrays\n",
        "X = np.array(X)\n",
        "y = np.array(y)\n",
        "\n",
        "# Train-validation split (80% train, 20% validation)\n",
        "X_train, X_val, y_train, y_val = train_test_split(X, y, test_size=0.2, random_state=42)\n",
        "\n",
        "# Output stats\n",
        "print(\"✅ Images loaded and split. Shapes:\")\n",
        "print(\"X_train:\", X_train.shape, \"y_train:\", y_train.shape)\n",
        "print(\"X_val:\", X_val.shape, \"y_val:\", y_val.shape)\n",
        "\n",
        "if missing_files:\n",
        "    print(f\"\\n⚠️ {len(missing_files)} images were missing and skipped.\")\n"
      ],
      "metadata": {
        "id": "8dekaC6g0kYR",
        "outputId": "6af48806-20e7-4ff2-e2ea-e9d52d6fb1b3",
        "colab": {
          "base_uri": "https://localhost:8080/"
        }
      },
      "execution_count": null,
      "outputs": [
        {
          "output_type": "stream",
          "name": "stdout",
          "text": [
            "✅ Images loaded and split. Shapes:\n",
            "X_train: (8, 128, 128, 3) y_train: (8,)\n",
            "X_val: (2, 128, 128, 3) y_val: (2,)\n"
          ]
        }
      ]
    },
    {
      "cell_type": "code",
      "source": [
        "import tensorflow as tf\n",
        "from tensorflow.keras.models import Sequential\n",
        "from tensorflow.keras.layers import Input, Conv2D, MaxPooling2D, Flatten, Dense, Dropout\n",
        "import matplotlib.pyplot as plt\n",
        "\n",
        "# Define the model\n",
        "model = Sequential([\n",
        "    Input(shape=(128, 128, 3)),\n",
        "    Conv2D(32, (3, 3), activation='relu'),\n",
        "    MaxPooling2D(2, 2),\n",
        "\n",
        "    Conv2D(64, (3, 3), activation='relu'),\n",
        "    MaxPooling2D(2, 2),\n",
        "\n",
        "    Flatten(),\n",
        "    Dense(64, activation='relu'),\n",
        "    Dropout(0.3),\n",
        "    Dense(1, activation='sigmoid')  # Binary classification\n",
        "])\n",
        "\n",
        "# Compile the model\n",
        "model.compile(optimizer='adam',\n",
        "              loss='binary_crossentropy',\n",
        "              metrics=['accuracy'])\n",
        "\n",
        "# Train the model\n",
        "history = model.fit(\n",
        "    X_train, y_train,\n",
        "    epochs=5,\n",
        "    batch_size=16,\n",
        "    validation_data=(X_val, y_val)\n",
        ")\n",
        "\n",
        "# Evaluate the model\n",
        "val_loss, val_accuracy = model.evaluate(X_val, y_val)\n",
        "print(f\"✅ Validation Loss: {val_loss:.4f}, Validation Accuracy: {val_accuracy:.4f}\")\n",
        "\n",
        "# Plot the training history\n",
        "plt.figure(figsize=(12, 6))\n",
        "\n",
        "# Loss plot\n",
        "plt.subplot(1, 2, 1)\n",
        "plt.plot(history.history['loss'], label='Training Loss')\n",
        "plt.plot(history.history['val_loss'], label='Validation Loss')\n",
        "plt.title('Loss over Epochs')\n",
        "plt.xlabel('Epochs')\n",
        "plt.ylabel('Loss')\n",
        "plt.legend()\n",
        "\n",
        "# Accuracy plot\n",
        "plt.subplot(1, 2, 2)\n",
        "plt.plot(history.history['accuracy'], label='Training Accuracy')\n",
        "plt.plot(history.history['val_accuracy'], label='Validation Accuracy')\n",
        "plt.title('Accuracy over Epochs')\n",
        "plt.xlabel('Epochs')\n",
        "plt.ylabel('Accuracy')\n",
        "plt.legend()\n",
        "\n",
        "plt.tight_layout()\n",
        "plt.show()\n",
        "\n",
        "# Predict a few samples\n",
        "predictions = model.predict(X_val[:5])\n",
        "for i, prediction in enumerate(predictions):\n",
        "    print(f\"Predicted: {prediction[0]:.2f}, Actual: {y_val[i]}\")\n"
      ],
      "metadata": {
        "id": "S94BKkUu0lFX",
        "colab": {
          "base_uri": "https://localhost:8080/",
          "height": 867
        },
        "outputId": "9b98e9a1-7546-43c7-dcb1-c8c6d9ba532f"
      },
      "execution_count": null,
      "outputs": [
        {
          "output_type": "stream",
          "name": "stdout",
          "text": [
            "Epoch 1/5\n",
            "\u001b[1m1/1\u001b[0m \u001b[32m━━━━━━━━━━━━━━━━━━━━\u001b[0m\u001b[37m\u001b[0m \u001b[1m3s\u001b[0m 3s/step - accuracy: 0.2500 - loss: 0.7659 - val_accuracy: 0.0000e+00 - val_loss: 10.0467\n",
            "Epoch 2/5\n",
            "\u001b[1m1/1\u001b[0m \u001b[32m━━━━━━━━━━━━━━━━━━━━\u001b[0m\u001b[37m\u001b[0m \u001b[1m0s\u001b[0m 465ms/step - accuracy: 0.7500 - loss: 2.1856 - val_accuracy: 0.0000e+00 - val_loss: 8.0550\n",
            "Epoch 3/5\n",
            "\u001b[1m1/1\u001b[0m \u001b[32m━━━━━━━━━━━━━━━━━━━━\u001b[0m\u001b[37m\u001b[0m \u001b[1m1s\u001b[0m 536ms/step - accuracy: 0.7500 - loss: 1.9120 - val_accuracy: 0.0000e+00 - val_loss: 4.3561\n",
            "Epoch 4/5\n",
            "\u001b[1m1/1\u001b[0m \u001b[32m━━━━━━━━━━━━━━━━━━━━\u001b[0m\u001b[37m\u001b[0m \u001b[1m1s\u001b[0m 507ms/step - accuracy: 0.7500 - loss: 0.9248 - val_accuracy: 0.0000e+00 - val_loss: 2.1556\n",
            "Epoch 5/5\n",
            "\u001b[1m1/1\u001b[0m \u001b[32m━━━━━━━━━━━━━━━━━━━━\u001b[0m\u001b[37m\u001b[0m \u001b[1m0s\u001b[0m 446ms/step - accuracy: 0.7500 - loss: 0.7120 - val_accuracy: 0.0000e+00 - val_loss: 1.2490\n",
            "\u001b[1m1/1\u001b[0m \u001b[32m━━━━━━━━━━━━━━━━━━━━\u001b[0m\u001b[37m\u001b[0m \u001b[1m0s\u001b[0m 104ms/step - accuracy: 0.0000e+00 - loss: 1.2490\n",
            "✅ Validation Loss: 1.2490, Validation Accuracy: 0.0000\n"
          ]
        },
        {
          "output_type": "display_data",
          "data": {
            "text/plain": [
              "<Figure size 1200x600 with 2 Axes>"
            ],
            "image/png": "[encoded data removed]"
          },
          "metadata": {}
        },
        {
          "output_type": "stream",
          "name": "stdout",
          "text": [
            "\u001b[1m1/1\u001b[0m \u001b[32m━━━━━━━━━━━━━━━━━━━━\u001b[0m\u001b[37m\u001b[0m \u001b[1m0s\u001b[0m 113ms/step\n",
            "Predicted: 0.70, Actual: 0\n",
            "Predicted: 0.73, Actual: 0\n"
          ]
        }
      ]
    },
    {
      "cell_type": "code",
      "source": [
        "# Save the model to a file\n",
        "model.save('/content/portfolio_cnn_model.h5')\n",
        "print(\"✅ Model saved successfully.\")\n"
      ],
      "metadata": {
        "id": "m4uowNmy01Pj",
        "colab": {
          "base_uri": "https://localhost:8080/"
        },
        "outputId": "d73ac72d-689e-49d4-cb82-6556b5ea0a39"
      },
      "execution_count": null,
      "outputs": [
        {
          "output_type": "stream",
          "name": "stderr",
          "text": [
            "WARNING:absl:You are saving your model as an HDF5 file via `model.save()` or `keras.saving.save_model(model)`. This file format is considered legacy. We recommend using instead the native Keras format, e.g. `model.save('my_model.keras')` or `keras.saving.save_model(model, 'my_model.keras')`. \n"
          ]
        },
        {
          "output_type": "stream",
          "name": "stdout",
          "text": [
            "✅ Model saved successfully.\n"
          ]
        }
      ]
    },
    {
      "cell_type": "code",
      "source": [
        "from tensorflow.keras.models import load_model\n",
        "from tensorflow.keras.preprocessing.image import load_img, img_to_array\n",
        "import numpy as np\n",
        "\n",
        "# Load the saved model\n",
        "model = load_model('/content/portfolio_cnn_model.h5')\n",
        "\n",
        "# Load a sample image for prediction (you can change this file)\n",
        "sample_image_path = '/content/heatmap_dataset/heatmap_0.png'\n",
        "\n",
        "# Prepare the image\n",
        "img = load_img(sample_image_path, target_size=(128, 128))\n",
        "img_array = img_to_array(img) / 255.0\n",
        "img_array = np.expand_dims(img_array, axis=0)  # Add batch dimension\n",
        "\n",
        "# Predict\n",
        "prediction = model.predict(img_array)[0][0]\n",
        "print(\"🔍 Prediction score:\", prediction)\n",
        "\n",
        "# Interpret the result\n",
        "if prediction > 0.5:\n",
        "    print(\"✅ Model recommends: INVEST\")\n",
        "else:\n",
        "    print(\"❌ Model recommends: DO NOT INVEST\")\n"
      ],
      "metadata": {
        "id": "WWxjOawv1yBh",
        "colab": {
          "base_uri": "https://localhost:8080/"
        },
        "outputId": "99341774-d502-448a-acff-eadebb72f81b"
      },
      "execution_count": null,
      "outputs": [
        {
          "output_type": "stream",
          "name": "stderr",
          "text": [
            "WARNING:absl:Compiled the loaded model, but the compiled metrics have yet to be built. `model.compile_metrics` will be empty until you train or evaluate the model.\n"
          ]
        },
        {
          "output_type": "stream",
          "name": "stdout",
          "text": [
            "\u001b[1m1/1\u001b[0m \u001b[32m━━━━━━━━━━━━━━━━━━━━\u001b[0m\u001b[37m\u001b[0m \u001b[1m0s\u001b[0m 103ms/step\n",
            "🔍 Prediction score: 0.70112014\n",
            "✅ Model recommends: INVEST\n"
          ]
        }
      ]
    },
    {
      "cell_type": "code",
      "source": [
        "!pip install gradio\n"
      ],
      "metadata": {
        "id": "E6wW10I92TBC",
        "colab": {
          "base_uri": "https://localhost:8080/"
        },
        "outputId": "553e8537-a669-4d58-93d6-22991c2c3efe"
      },
      "execution_count": null,
      "outputs": [
        {
          "output_type": "stream",
          "name": "stdout",
          "text": [
            "Collecting gradio\n",
            "  Downloading gradio-5.29.0-py3-none-any.whl.metadata (16 kB)\n",
            "Collecting aiofiles<25.0,>=22.0 (from gradio)\n",
            "  Downloading aiofiles-24.1.0-py3-none-any.whl.metadata (10 kB)\n",
            "Requirement already satisfied: anyio<5.0,>=3.0 in /usr/local/lib/python3.11/dist-packages (from gradio) (4.9.0)\n",
            "Collecting fastapi<1.0,>=0.115.2 (from gradio)\n",
            "  Downloading fastapi-0.115.12-py3-none-any.whl.metadata (27 kB)\n",
            "Collecting ffmpy (from gradio)\n",
            "  Downloading ffmpy-0.5.0-py3-none-any.whl.metadata (3.0 kB)\n",
            "Collecting gradio-client==1.10.0 (from gradio)\n",
            "  Downloading gradio_client-1.10.0-py3-none-any.whl.metadata (7.1 kB)\n",
            "Collecting groovy~=0.1 (from gradio)\n",
            "  Downloading groovy-0.1.2-py3-none-any.whl.metadata (6.1 kB)\n",
            "Requirement already satisfied: httpx>=0.24.1 in /usr/local/lib/python3.11/dist-packages (from gradio) (0.28.1)\n",
            "Requirement already satisfied: huggingface-hub>=0.28.1 in /usr/local/lib/python3.11/dist-packages (from gradio) (0.31.1)\n",
            "Requirement already satisfied: jinja2<4.0 in /usr/local/lib/python3.11/dist-packages (from gradio) (3.1.6)\n",
            "Requirement already satisfied: markupsafe<4.0,>=2.0 in /usr/local/lib/python3.11/dist-packages (from gradio) (3.0.2)\n",
            "Requirement already satisfied: numpy<3.0,>=1.0 in /usr/local/lib/python3.11/dist-packages (from gradio) (2.0.2)\n",
            "Requirement already satisfied: orjson~=3.0 in /usr/local/lib/python3.11/dist-packages (from gradio) (3.10.18)\n",
            "Requirement already satisfied: packaging in /usr/local/lib/python3.11/dist-packages (from gradio) (24.2)\n",
            "Requirement already satisfied: pandas<3.0,>=1.0 in /usr/local/lib/python3.11/dist-packages (from gradio) (2.2.2)\n",
            "Requirement already satisfied: pillow<12.0,>=8.0 in /usr/local/lib/python3.11/dist-packages (from gradio) (11.2.1)\n",
            "Requirement already satisfied: pydantic<2.12,>=2.0 in /usr/local/lib/python3.11/dist-packages (from gradio) (2.11.4)\n",
            "Collecting pydub (from gradio)\n",
            "  Downloading pydub-0.25.1-py2.py3-none-any.whl.metadata (1.4 kB)\n",
            "Collecting python-multipart>=0.0.18 (from gradio)\n",
            "  Downloading python_multipart-0.0.20-py3-none-any.whl.metadata (1.8 kB)\n",
            "Requirement already satisfied: pyyaml<7.0,>=5.0 in /usr/local/lib/python3.11/dist-packages (from gradio) (6.0.2)\n",
            "Collecting ruff>=0.9.3 (from gradio)\n",
            "  Downloading ruff-0.11.9-py3-none-manylinux_2_17_x86_64.manylinux2014_x86_64.whl.metadata (25 kB)\n",
            "Collecting safehttpx<0.2.0,>=0.1.6 (from gradio)\n",
            "  Downloading safehttpx-0.1.6-py3-none-any.whl.metadata (4.2 kB)\n",
            "Collecting semantic-version~=2.0 (from gradio)\n",
            "  Downloading semantic_version-2.10.0-py2.py3-none-any.whl.metadata (9.7 kB)\n",
            "Collecting starlette<1.0,>=0.40.0 (from gradio)\n",
            "  Downloading starlette-0.46.2-py3-none-any.whl.metadata (6.2 kB)\n",
            "Collecting tomlkit<0.14.0,>=0.12.0 (from gradio)\n",
            "  Downloading tomlkit-0.13.2-py3-none-any.whl.metadata (2.7 kB)\n",
            "Requirement already satisfied: typer<1.0,>=0.12 in /usr/local/lib/python3.11/dist-packages (from gradio) (0.15.3)\n",
            "Requirement already satisfied: typing-extensions~=4.0 in /usr/local/lib/python3.11/dist-packages (from gradio) (4.13.2)\n",
            "Collecting uvicorn>=0.14.0 (from gradio)\n",
            "  Downloading uvicorn-0.34.2-py3-none-any.whl.metadata (6.5 kB)\n",
            "Requirement already satisfied: fsspec in /usr/local/lib/python3.11/dist-packages (from gradio-client==1.10.0->gradio) (2025.3.2)\n",
            "Requirement already satisfied: websockets<16.0,>=10.0 in /usr/local/lib/python3.11/dist-packages (from gradio-client==1.10.0->gradio) (15.0.1)\n",
            "Requirement already satisfied: idna>=2.8 in /usr/local/lib/python3.11/dist-packages (from anyio<5.0,>=3.0->gradio) (3.10)\n",
            "Requirement already satisfied: sniffio>=1.1 in /usr/local/lib/python3.11/dist-packages (from anyio<5.0,>=3.0->gradio) (1.3.1)\n",
            "Requirement already satisfied: certifi in /usr/local/lib/python3.11/dist-packages (from httpx>=0.24.1->gradio) (2025.4.26)\n",
            "Requirement already satisfied: httpcore==1.* in /usr/local/lib/python3.11/dist-packages (from httpx>=0.24.1->gradio) (1.0.9)\n",
            "Requirement already satisfied: h11>=0.16 in /usr/local/lib/python3.11/dist-packages (from httpcore==1.*->httpx>=0.24.1->gradio) (0.16.0)\n",
            "Requirement already satisfied: filelock in /usr/local/lib/python3.11/dist-packages (from huggingface-hub>=0.28.1->gradio) (3.18.0)\n",
            "Requirement already satisfied: requests in /usr/local/lib/python3.11/dist-packages (from huggingface-hub>=0.28.1->gradio) (2.32.3)\n",
            "Requirement already satisfied: tqdm>=4.42.1 in /usr/local/lib/python3.11/dist-packages (from huggingface-hub>=0.28.1->gradio) (4.67.1)\n",
            "Requirement already satisfied: hf-xet<2.0.0,>=1.1.0 in /usr/local/lib/python3.11/dist-packages (from huggingface-hub>=0.28.1->gradio) (1.1.0)\n",
            "Requirement already satisfied: python-dateutil>=2.8.2 in /usr/local/lib/python3.11/dist-packages (from pandas<3.0,>=1.0->gradio) (2.9.0.post0)\n",
            "Requirement already satisfied: pytz>=2020.1 in /usr/local/lib/python3.11/dist-packages (from pandas<3.0,>=1.0->gradio) (2025.2)\n",
            "Requirement already satisfied: tzdata>=2022.7 in /usr/local/lib/python3.11/dist-packages (from pandas<3.0,>=1.0->gradio) (2025.2)\n",
            "Requirement already satisfied: annotated-types>=0.6.0 in /usr/local/lib/python3.11/dist-packages (from pydantic<2.12,>=2.0->gradio) (0.7.0)\n",
            "Requirement already satisfied: pydantic-core==2.33.2 in /usr/local/lib/python3.11/dist-packages (from pydantic<2.12,>=2.0->gradio) (2.33.2)\n",
            "Requirement already satisfied: typing-inspection>=0.4.0 in /usr/local/lib/python3.11/dist-packages (from pydantic<2.12,>=2.0->gradio) (0.4.0)\n",
            "Requirement already satisfied: click>=8.0.0 in /usr/local/lib/python3.11/dist-packages (from typer<1.0,>=0.12->gradio) (8.1.8)\n",
            "Requirement already satisfied: shellingham>=1.3.0 in /usr/local/lib/python3.11/dist-packages (from typer<1.0,>=0.12->gradio) (1.5.4)\n",
            "Requirement already satisfied: rich>=10.11.0 in /usr/local/lib/python3.11/dist-packages (from typer<1.0,>=0.12->gradio) (13.9.4)\n",
            "Requirement already satisfied: six>=1.5 in /usr/local/lib/python3.11/dist-packages (from python-dateutil>=2.8.2->pandas<3.0,>=1.0->gradio) (1.17.0)\n",
            "Requirement already satisfied: markdown-it-py>=2.2.0 in /usr/local/lib/python3.11/dist-packages (from rich>=10.11.0->typer<1.0,>=0.12->gradio) (3.0.0)\n",
            "Requirement already satisfied: pygments<3.0.0,>=2.13.0 in /usr/local/lib/python3.11/dist-packages (from rich>=10.11.0->typer<1.0,>=0.12->gradio) (2.19.1)\n",
            "Requirement already satisfied: charset-normalizer<4,>=2 in /usr/local/lib/python3.11/dist-packages (from requests->huggingface-hub>=0.28.1->gradio) (3.4.2)\n",
            "Requirement already satisfied: urllib3<3,>=1.21.1 in /usr/local/lib/python3.11/dist-packages (from requests->huggingface-hub>=0.28.1->gradio) (2.4.0)\n",
            "Requirement already satisfied: mdurl~=0.1 in /usr/local/lib/python3.11/dist-packages (from markdown-it-py>=2.2.0->rich>=10.11.0->typer<1.0,>=0.12->gradio) (0.1.2)\n",
            "Downloading gradio-5.29.0-py3-none-any.whl (54.1 MB)\n",
            "\u001b[2K   \u001b[90m━━━━━━━━━━━━━━━━━━━━━━━━━━━━━━━━━━━━━━━━\u001b[0m \u001b[32m54.1/54.1 MB\u001b[0m \u001b[31m12.9 MB/s\u001b[0m eta \u001b[36m0:00:00\u001b[0m\n",
            "\u001b[?25hDownloading gradio_client-1.10.0-py3-none-any.whl (322 kB)\n",
            "\u001b[2K   \u001b[90m━━━━━━━━━━━━━━━━━━━━━━━━━━━━━━━━━━━━━━━━\u001b[0m \u001b[32m322.9/322.9 kB\u001b[0m \u001b[31m19.6 MB/s\u001b[0m eta \u001b[36m0:00:00\u001b[0m\n",
            "\u001b[?25hDownloading aiofiles-24.1.0-py3-none-any.whl (15 kB)\n",
            "Downloading fastapi-0.115.12-py3-none-any.whl (95 kB)\n",
            "\u001b[2K   \u001b[90m━━━━━━━━━━━━━━━━━━━━━━━━━━━━━━━━━━━━━━━━\u001b[0m \u001b[32m95.2/95.2 kB\u001b[0m \u001b[31m6.1 MB/s\u001b[0m eta \u001b[36m0:00:00\u001b[0m\n",
            "\u001b[?25hDownloading groovy-0.1.2-py3-none-any.whl (14 kB)\n",
            "Downloading python_multipart-0.0.20-py3-none-any.whl (24 kB)\n",
            "Downloading ruff-0.11.9-py3-none-manylinux_2_17_x86_64.manylinux2014_x86_64.whl (11.5 MB)\n",
            "\u001b[2K   \u001b[90m━━━━━━━━━━━━━━━━━━━━━━━━━━━━━━━━━━━━━━━━\u001b[0m \u001b[32m11.5/11.5 MB\u001b[0m \u001b[31m97.1 MB/s\u001b[0m eta \u001b[36m0:00:00\u001b[0m\n",
            "\u001b[?25hDownloading safehttpx-0.1.6-py3-none-any.whl (8.7 kB)\n",
            "Downloading semantic_version-2.10.0-py2.py3-none-any.whl (15 kB)\n",
            "Downloading starlette-0.46.2-py3-none-any.whl (72 kB)\n",
            "\u001b[2K   \u001b[90m━━━━━━━━━━━━━━━━━━━━━━━━━━━━━━━━━━━━━━━━\u001b[0m \u001b[32m72.0/72.0 kB\u001b[0m \u001b[31m4.9 MB/s\u001b[0m eta \u001b[36m0:00:00\u001b[0m\n",
            "\u001b[?25hDownloading tomlkit-0.13.2-py3-none-any.whl (37 kB)\n",
            "Downloading uvicorn-0.34.2-py3-none-any.whl (62 kB)\n",
            "\u001b[2K   \u001b[90m━━━━━━━━━━━━━━━━━━━━━━━━━━━━━━━━━━━━━━━━\u001b[0m \u001b[32m62.5/62.5 kB\u001b[0m \u001b[31m4.3 MB/s\u001b[0m eta \u001b[36m0:00:00\u001b[0m\n",
            "\u001b[?25hDownloading ffmpy-0.5.0-py3-none-any.whl (6.0 kB)\n",
            "Downloading pydub-0.25.1-py2.py3-none-any.whl (32 kB)\n",
            "Installing collected packages: pydub, uvicorn, tomlkit, semantic-version, ruff, python-multipart, groovy, ffmpy, aiofiles, starlette, safehttpx, gradio-client, fastapi, gradio\n",
            "Successfully installed aiofiles-24.1.0 fastapi-0.115.12 ffmpy-0.5.0 gradio-5.29.0 gradio-client-1.10.0 groovy-0.1.2 pydub-0.25.1 python-multipart-0.0.20 ruff-0.11.9 safehttpx-0.1.6 semantic-version-2.10.0 starlette-0.46.2 tomlkit-0.13.2 uvicorn-0.34.2\n"
          ]
        }
      ]
    },
    {
      "cell_type": "code",
      "source": [
        "!pip install yfinance --upgrade --no-cache-dir\n"
      ],
      "metadata": {
        "id": "G6DqSvX38WZ6",
        "colab": {
          "base_uri": "https://localhost:8080/",
          "height": 703
        },
        "outputId": "fc03beaf-bdee-4baf-e15c-d050be27ee7f"
      },
      "execution_count": null,
      "outputs": [
        {
          "output_type": "stream",
          "name": "stdout",
          "text": [
            "Requirement already satisfied: yfinance in /usr/local/lib/python3.11/dist-packages (0.2.59)\n",
            "Collecting yfinance\n",
            "  Downloading yfinance-0.2.61-py2.py3-none-any.whl.metadata (5.8 kB)\n",
            "Requirement already satisfied: pandas>=1.3.0 in /usr/local/lib/python3.11/dist-packages (from yfinance) (2.2.2)\n",
            "Requirement already satisfied: numpy>=1.16.5 in /usr/local/lib/python3.11/dist-packages (from yfinance) (2.0.2)\n",
            "Requirement already satisfied: requests>=2.31 in /usr/local/lib/python3.11/dist-packages (from yfinance) (2.32.3)\n",
            "Requirement already satisfied: multitasking>=0.0.7 in /usr/local/lib/python3.11/dist-packages (from yfinance) (0.0.11)\n",
            "Requirement already satisfied: platformdirs>=2.0.0 in /usr/local/lib/python3.11/dist-packages (from yfinance) (4.3.8)\n",
            "Requirement already satisfied: pytz>=2022.5 in /usr/local/lib/python3.11/dist-packages (from yfinance) (2025.2)\n",
            "Requirement already satisfied: frozendict>=2.3.4 in /usr/local/lib/python3.11/dist-packages (from yfinance) (2.4.6)\n",
            "Requirement already satisfied: peewee>=3.16.2 in /usr/local/lib/python3.11/dist-packages (from yfinance) (3.18.1)\n",
            "Requirement already satisfied: beautifulsoup4>=4.11.1 in /usr/local/lib/python3.11/dist-packages (from yfinance) (4.13.4)\n",
            "Requirement already satisfied: curl_cffi>=0.7 in /usr/local/lib/python3.11/dist-packages (from yfinance) (0.10.0)\n",
            "Requirement already satisfied: protobuf>=3.19.0 in /usr/local/lib/python3.11/dist-packages (from yfinance) (5.29.4)\n",
            "Requirement already satisfied: websockets>=13.0 in /usr/local/lib/python3.11/dist-packages (from yfinance) (15.0.1)\n",
            "Requirement already satisfied: soupsieve>1.2 in /usr/local/lib/python3.11/dist-packages (from beautifulsoup4>=4.11.1->yfinance) (2.7)\n",
            "Requirement already satisfied: typing-extensions>=4.0.0 in /usr/local/lib/python3.11/dist-packages (from beautifulsoup4>=4.11.1->yfinance) (4.13.2)\n",
            "Requirement already satisfied: cffi>=1.12.0 in /usr/local/lib/python3.11/dist-packages (from curl_cffi>=0.7->yfinance) (1.17.1)\n",
            "Requirement already satisfied: certifi>=2024.2.2 in /usr/local/lib/python3.11/dist-packages (from curl_cffi>=0.7->yfinance) (2025.4.26)\n",
            "Requirement already satisfied: python-dateutil>=2.8.2 in /usr/local/lib/python3.11/dist-packages (from pandas>=1.3.0->yfinance) (2.9.0.post0)\n",
            "Requirement already satisfied: tzdata>=2022.7 in /usr/local/lib/python3.11/dist-packages (from pandas>=1.3.0->yfinance) (2025.2)\n",
            "Requirement already satisfied: charset-normalizer<4,>=2 in /usr/local/lib/python3.11/dist-packages (from requests>=2.31->yfinance) (3.4.2)\n",
            "Requirement already satisfied: idna<4,>=2.5 in /usr/local/lib/python3.11/dist-packages (from requests>=2.31->yfinance) (3.10)\n",
            "Requirement already satisfied: urllib3<3,>=1.21.1 in /usr/local/lib/python3.11/dist-packages (from requests>=2.31->yfinance) (2.4.0)\n",
            "Requirement already satisfied: pycparser in /usr/local/lib/python3.11/dist-packages (from cffi>=1.12.0->curl_cffi>=0.7->yfinance) (2.22)\n",
            "Requirement already satisfied: six>=1.5 in /usr/local/lib/python3.11/dist-packages (from python-dateutil>=2.8.2->pandas>=1.3.0->yfinance) (1.17.0)\n",
            "Downloading yfinance-0.2.61-py2.py3-none-any.whl (117 kB)\n",
            "\u001b[2K   \u001b[90m━━━━━━━━━━━━━━━━━━━━━━━━━━━━━━━━━━━━━━━━\u001b[0m \u001b[32m117.9/117.9 kB\u001b[0m \u001b[31m7.2 MB/s\u001b[0m eta \u001b[36m0:00:00\u001b[0m\n",
            "\u001b[?25hInstalling collected packages: yfinance\n",
            "  Attempting uninstall: yfinance\n",
            "    Found existing installation: yfinance 0.2.59\n",
            "    Uninstalling yfinance-0.2.59:\n",
            "      Successfully uninstalled yfinance-0.2.59\n",
            "Successfully installed yfinance-0.2.61\n"
          ]
        },
        {
          "output_type": "display_data",
          "data": {
            "application/vnd.colab-display-data+json": {
              "pip_warning": {
                "packages": [
                  "yfinance"
                ]
              },
              "id": "5943f776d09641a9ae5739f2e5f12067"
            }
          },
          "metadata": {}
        }
      ]
    },
    {
      "cell_type": "code",
      "source": [
        "import yfinance as yf\n",
        "import numpy as np\n",
        "import seaborn as sns\n",
        "import matplotlib.pyplot as plt\n",
        "import pandas as pd\n",
        "from tensorflow.keras.preprocessing.image import load_img, img_to_array\n",
        "from tensorflow.keras.models import load_model\n",
        "import gradio as gr\n",
        "from datetime import datetime\n",
        "\n",
        "# Load pre-trained model\n",
        "model = load_model('/content/portfolio_cnn_model.h5')\n",
        "\n",
        "# Function to fetch stock data and compute correlation matrix\n",
        "def fetch_and_preprocess_data(tickers, start_date, end_date):\n",
        "    data = yf.download(tickers, start=start_date, end=end_date)\n",
        "\n",
        "    # Check if 'Adj Close' exists, else use 'Close'\n",
        "    if 'Adj Close' in data.columns:\n",
        "        data = data['Adj Close']\n",
        "    elif 'Close' in data.columns:\n",
        "        data = data['Close']\n",
        "    else:\n",
        "        return None\n",
        "\n",
        "    # If only one ticker, convert the data to DataFrame\n",
        "    if isinstance(data, pd.Series):\n",
        "        data = data.to_frame()\n",
        "\n",
        "    returns = data.pct_change().dropna()\n",
        "    return returns.corr()\n",
        "\n",
        "# Function to plot and save the heatmap\n",
        "def plot_correlation_heatmap(corr_matrix, image_path):\n",
        "    plt.figure(figsize=(10, 8))\n",
        "    sns.heatmap(corr_matrix, annot=True, cmap='coolwarm', fmt='.2f', cbar=True, square=True)\n",
        "    plt.title(\"Correlation Heatmap of Selected Stocks\", fontsize=16)\n",
        "    plt.tight_layout()\n",
        "    plt.savefig(image_path)\n",
        "    plt.close()\n",
        "\n",
        "# Function to fetch current stock prices\n",
        "def fetch_current_prices(tickers):\n",
        "    current_prices = {}\n",
        "    for ticker in tickers:\n",
        "        data = yf.Ticker(ticker)\n",
        "        current_prices[ticker] = data.history(period=\"1d\")['Close'][0]  # Get the latest close price\n",
        "    return current_prices\n",
        "\n",
        "# Main Gradio function\n",
        "def generate_heatmap_and_predict(tickers, start_date, end_date):\n",
        "    try:\n",
        "        tickers_list = [t.strip().upper() for t in tickers.split(\",\") if t.strip()]\n",
        "        if len(tickers_list) < 2:\n",
        "            return None, \"❗ Enter at least two stock tickers.\"\n",
        "\n",
        "        # Convert to string format if datetime\n",
        "        if isinstance(start_date, datetime):\n",
        "            start_date = start_date.strftime(\"%Y-%m-%d\")\n",
        "        if isinstance(end_date, datetime):\n",
        "            end_date = end_date.strftime(\"%Y-%m-%d\")\n",
        "\n",
        "        # Fetch correlation matrix\n",
        "        corr_matrix = fetch_and_preprocess_data(tickers_list, start_date, end_date)\n",
        "\n",
        "        # Check if data is available\n",
        "        if corr_matrix is None or corr_matrix.empty:\n",
        "            return None, \"⚠️ Not enough data to compute correlation or 'Adj Close' and 'Close' are missing.\"\n",
        "\n",
        "        # Save heatmap\n",
        "        image_path = \"/content/latest_heatmap.png\"\n",
        "        plot_correlation_heatmap(corr_matrix, image_path)\n",
        "\n",
        "        # Fetch current stock prices\n",
        "        current_prices = fetch_current_prices(tickers_list)\n",
        "\n",
        "        # Load and preprocess for prediction\n",
        "        img = load_img(image_path, target_size=(128, 128))\n",
        "        img_array = img_to_array(img) / 255.0\n",
        "        img_array = np.expand_dims(img_array, axis=0)\n",
        "\n",
        "        # Make prediction\n",
        "        pred = model.predict(img_array)[0][0]\n",
        "\n",
        "        # Determine recommendation\n",
        "        recommendation = \"✅ INVEST\" if pred > 0.5 else \"❌ DO NOT INVEST\"\n",
        "\n",
        "        # Prepare current prices string\n",
        "        current_prices_str = \"\\n\".join([f\"{ticker}: ₹{price:.2f}\" for ticker, price in current_prices.items()])\n",
        "\n",
        "        return image_path, recommendation, current_prices_str\n",
        "\n",
        "    except Exception as e:\n",
        "        return None, f\"Error: {str(e)}\", \"\"\n",
        "        print(f\"Prediction: {pred}\")\n",
        "\n",
        "\n",
        "# Gradio Interface\n",
        "iface = gr.Interface(\n",
        "    fn=generate_heatmap_and_predict,\n",
        "    inputs=[\n",
        "        gr.Textbox(label=\"Enter Stock Tickers (comma-separated)\", placeholder=\"e.g. INFY.NS, TCS.NS, RELIANCE.NS\"),\n",
        "        gr.Textbox(label=\"Start Date (YYYY-MM-DD)\", placeholder=\"e.g. 2024-06-01\"),\n",
        "        gr.Textbox(label=\"End Date (YYYY-MM-DD)\", placeholder=\"e.g. 2025-05-01\")\n",
        "    ],\n",
        "    outputs=[\n",
        "        gr.Image(label=\"📈 Correlation Heatmap\"),\n",
        "        gr.Textbox(label=\"💡 Investment Recommendation\"),\n",
        "        gr.Textbox(label=\"💰 Current Stock Prices\")\n",
        "    ],\n",
        "    title=\"📊 Stock Portfolio Heatmap Analyzer\",\n",
        "    description=\"Enter stock tickers and date range to generate a correlation heatmap and get a CNN-based investment recommendation. Additionally, see the current stock prices.\",\n",
        "    theme=\"soft\",\n",
        "    live=False\n",
        ")\n",
        "\n",
        "# Launch the interface\n",
        "iface.launch()\n"
      ],
      "metadata": {
        "id": "tMu_nky9HjJL",
        "colab": {
          "base_uri": "https://localhost:8080/",
          "height": 663
        },
        "outputId": "3e4f4d0e-87b8-4204-a532-204a6ca28b21"
      },
      "execution_count": null,
      "outputs": [
        {
          "output_type": "stream",
          "name": "stderr",
          "text": [
            "WARNING:absl:Compiled the loaded model, but the compiled metrics have yet to be built. `model.compile_metrics` will be empty until you train or evaluate the model.\n"
          ]
        },
        {
          "output_type": "stream",
          "name": "stdout",
          "text": [
            "It looks like you are running Gradio on a hosted a Jupyter notebook. For the Gradio app to work, sharing must be enabled. Automatically setting `share=True` (you can turn this off by setting `share=False` in `launch()` explicitly).\n",
            "\n",
            "Colab notebook detected. To show errors in colab notebook, set debug=True in launch()\n",
            "* Running on public URL: https://d735bef53492d49c05.gradio.live\n",
            "\n",
            "This share link expires in 1 week. For free permanent hosting and GPU upgrades, run `gradio deploy` from the terminal in the working directory to deploy to Hugging Face Spaces (https://huggingface.co/spaces)\n"
          ]
        },
        {
          "output_type": "display_data",
          "data": {
            "text/plain": [
              "<IPython.core.display.HTML object>"
            ],
            "text/html": [
              "<div><iframe src=\"https://d735bef53492d49c05.gradio.live\" width=\"100%\" height=\"500\" allow=\"autoplay; camera; microphone; clipboard-read; clipboard-write;\" frameborder=\"0\" allowfullscreen></iframe></div>"
            ]
          },
          "metadata": {}
        },
        {
          "output_type": "execute_result",
          "data": {
            "text/plain": []
          },
          "metadata": {},
          "execution_count": 1
        }
      ]
    }
  ]
}